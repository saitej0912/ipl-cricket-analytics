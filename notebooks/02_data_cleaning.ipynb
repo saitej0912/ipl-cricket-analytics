{
 "cells": [
  {
   "cell_type": "code",
   "execution_count": 4,
   "id": "5416ebb7",
   "metadata": {},
   "outputs": [
    {
     "name": "stdout",
     "output_type": "stream",
     "text": [
      "Working directory: c:\\Users\\Sai Tejeswar\\Documents\\ipl-cricket-analytics\\notebooks\n",
      "Data folder contents: ['deliveries.csv', 'matches.csv']\n",
      "\n",
      "Loading data...\n",
      "Matches: (1095, 20)\n",
      "Deliveries: (260920, 17)\n",
      "\n",
      "Cleaning matches...\n",
      "✓ Matches cleaned\n",
      "\n",
      "Cleaning deliveries...\n",
      "✓ Deliveries cleaned\n",
      "\n",
      "Saving...\n",
      "✓ Saved matches_cleaned.csv\n",
      "✓ Saved deliveries_cleaned.csv\n",
      "\n",
      "Verifying...\n",
      "Files in data folder:\n",
      "  - deliveries.csv\n",
      "  - deliveries_cleaned.csv\n",
      "  - matches.csv\n",
      "  - matches_cleaned.csv\n",
      "\n",
      "✅ DONE!\n"
     ]
    }
   ],
   "source": [
    "# ============================================\n",
    "# NOTEBOOK 2: DATA CLEANING\n",
    "# ============================================\n",
    "\n",
    "# CELL 1: Import\n",
    "import pandas as pd\n",
    "import os\n",
    "\n",
    "# CELL 2: Check location\n",
    "print(\"Working directory:\", os.getcwd())\n",
    "print(\"Data folder contents:\", os.listdir('../data'))\n",
    "\n",
    "# CELL 3: Load data\n",
    "print(\"\\nLoading data...\")\n",
    "matches_df = pd.read_csv('../data/matches.csv')\n",
    "deliveries_df = pd.read_csv('../data/deliveries.csv')\n",
    "print(f\"Matches: {matches_df.shape}\")\n",
    "print(f\"Deliveries: {deliveries_df.shape}\")\n",
    "\n",
    "# CELL 4: Clean matches\n",
    "print(\"\\nCleaning matches...\")\n",
    "matches_df = matches_df.drop_duplicates()\n",
    "matches_df['date'] = pd.to_datetime(matches_df['date'], errors='coerce')\n",
    "print(\"✓ Matches cleaned\")\n",
    "\n",
    "# CELL 5: Clean deliveries\n",
    "print(\"\\nCleaning deliveries...\")\n",
    "deliveries_df = deliveries_df.fillna(0)\n",
    "print(\"✓ Deliveries cleaned\")\n",
    "\n",
    "# CELL 6: Save\n",
    "print(\"\\nSaving...\")\n",
    "matches_df.to_csv('../data/matches_cleaned.csv', index=False)\n",
    "deliveries_df.to_csv('../data/deliveries_cleaned.csv', index=False)\n",
    "print(\"✓ Saved matches_cleaned.csv\")\n",
    "print(\"✓ Saved deliveries_cleaned.csv\")\n",
    "\n",
    "# CELL 7: Verify\n",
    "print(\"\\nVerifying...\")\n",
    "print(\"Files in data folder:\")\n",
    "for f in os.listdir('../data'):\n",
    "    print(f\"  - {f}\")\n",
    "\n",
    "print(\"\\n✅ DONE!\")\n"
   ]
  }
 ],
 "metadata": {
  "kernelspec": {
   "display_name": "ipl-env",
   "language": "python",
   "name": "python3"
  },
  "language_info": {
   "codemirror_mode": {
    "name": "ipython",
    "version": 3
   },
   "file_extension": ".py",
   "mimetype": "text/x-python",
   "name": "python",
   "nbconvert_exporter": "python",
   "pygments_lexer": "ipython3",
   "version": "3.11.14"
  }
 },
 "nbformat": 4,
 "nbformat_minor": 5
}
